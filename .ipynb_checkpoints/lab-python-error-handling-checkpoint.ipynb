{
 "cells": [
  {
   "cell_type": "markdown",
   "id": "25d7736c-ba17-4aff-b6bb-66eba20fbf4e",
   "metadata": {},
   "source": [
    "# Lab | Error Handling"
   ]
  },
  {
   "cell_type": "markdown",
   "id": "bc99b386-7508-47a0-bcdb-d969deaf6c8b",
   "metadata": {},
   "source": [
    "## Exercise: Error Handling for Managing Customer Orders\n",
    "\n",
    "The implementation of your code for managing customer orders assumes that the user will always enter a valid input. \n",
    "\n",
    "For example, we could modify the `initialize_inventory` function to include error handling.\n",
    "   - If the user enters an invalid quantity (e.g., a negative value or a non-numeric value), display an error message and ask them to re-enter the quantity for that product.\n",
    "   - Use a try-except block to handle the error and continue prompting the user until a valid quantity is entered.\n",
    "\n",
    "```python\n",
    "# Step 1: Define the function for initializing the inventory with error handling\n",
    "def initialize_inventory(products):\n",
    "    inventory = {}\n",
    "    for product in products:\n",
    "        valid_quantity = False\n",
    "        while not valid_quantity:\n",
    "            try:\n",
    "                quantity = int(input(f\"Enter the quantity of {product}s available: \"))\n",
    "                if quantity < 0:\n",
    "                    raise ValueError(\"Invalid quantity! Please enter a non-negative value.\")\n",
    "                valid_quantity = True\n",
    "            except ValueError as error:\n",
    "                print(f\"Error: {error}\")\n",
    "        inventory[product] = quantity\n",
    "    return inventory\n",
    "\n",
    "# Or, in another way:\n",
    "\n",
    "def initialize_inventory(products):\n",
    "    inventory = {}\n",
    "    for product in products:\n",
    "        valid_input = False\n",
    "        while not valid_input:\n",
    "            try:\n",
    "                quantity = int(input(f\"Enter the quantity of {product}s available: \"))\n",
    "                if quantity >= 0:\n",
    "                    inventory[product] = quantity\n",
    "                    valid_input = True\n",
    "                else:\n",
    "                    print(\"Quantity cannot be negative. Please enter a valid quantity.\")\n",
    "            except ValueError:\n",
    "                print(\"Invalid input. Please enter a valid quantity.\")\n",
    "    return inventory\n",
    "```\n",
    "\n",
    "Let's enhance your code by implementing error handling to handle invalid inputs.\n",
    "\n",
    "Follow the steps below to complete the exercise:\n",
    "\n",
    "2. Modify the `calculate_total_price` function to include error handling.\n",
    "   - If the user enters an invalid price (e.g., a negative value or a non-numeric value), display an error message and ask them to re-enter the price for that product.\n",
    "   - Use a try-except block to handle the error and continue prompting the user until a valid price is entered.\n",
    "\n",
    "3. Modify the `get_customer_orders` function to include error handling.\n",
    "   - If the user enters an invalid number of orders (e.g., a negative value or a non-numeric value), display an error message and ask them to re-enter the number of orders.\n",
    "   - If the user enters an invalid product name (e.g., a product name that is not in the inventory), or that doesn't have stock available, display an error message and ask them to re-enter the product name. *Hint: you will need to pass inventory as a parameter*\n",
    "   - Use a try-except block to handle the error and continue prompting the user until a valid product name is entered.\n",
    "\n",
    "4. Test your code by running the program and deliberately entering invalid quantities and product names. Make sure the error handling mechanism works as expected.\n"
   ]
  },
  {
   "cell_type": "markdown",
   "id": "9b9050a3-0f18-41a6-910a-6a763011eb95",
   "metadata": {},
   "source": [
    "##### Order of tasks 2 and 3 reversed!!!"
   ]
  },
  {
   "cell_type": "code",
   "execution_count": 19,
   "id": "999f4fcf-7971-4d70-91c8-3406083ddbee",
   "metadata": {},
   "outputs": [
    {
     "name": "stdin",
     "output_type": "stream",
     "text": [
      "Enter the quantity of t-shirts available:  5\n",
      "Enter the quantity of mugs available:  5\n",
      "Enter the quantity of hats available:  5\n",
      "Enter the quantity of books available:  5\n",
      "Enter the quantity of keychains available:  5\n"
     ]
    }
   ],
   "source": [
    "# Running Base Code\n",
    "products = [\"t-shirt\", \"mug\", \"hat\", \"book\", \"keychain\"]\n",
    "\n",
    "def initialize_inventory(products):\n",
    "    inventory = {}\n",
    "    for product in products:\n",
    "        valid_input = False\n",
    "        while not valid_input:\n",
    "            try:\n",
    "                quantity = int(input(f\"Enter the quantity of {product}s available: \"))\n",
    "                if quantity >= 0:\n",
    "                    inventory[product] = quantity\n",
    "                    valid_input = True\n",
    "                else:\n",
    "                    print(\"Quantity cannot be negative. Please enter a valid quantity.\")\n",
    "            except ValueError:\n",
    "                print(\"Invalid input. Please enter a valid quantity.\")\n",
    "    return inventory\n",
    "\n",
    "inventory = initialize_inventory(products)"
   ]
  },
  {
   "cell_type": "markdown",
   "id": "7f241a1f-87c5-413f-b442-803140b4c150",
   "metadata": {},
   "source": [
    "\n",
    "Modify the get_customer_orders function to include error handling.\n",
    "- If the user enters an invalid number of orders (e.g., a negative value or a non-numeric value), \n",
    "  display an error message and ask them to re-enter the number of orders.\n",
    "- If the user enters an invalid product name (e.g., a product name that is not in the inventory), or that doesn't have stock available, \n",
    "  display an error message and ask them to re-enter the product name. *Hint: you will need to pass inventory as a parameter*\n",
    "- Use a try-except block to handle the error and continue prompting the user until a valid product name is entered.\n"
   ]
  },
  {
   "cell_type": "code",
   "execution_count": 41,
   "id": "b2cf0e07-f3c0-4955-8183-1a3e8689e47b",
   "metadata": {},
   "outputs": [],
   "source": [
    "def new_get_customer_orders(inventory):\n",
    "    customer_orders = set()\n",
    "    number = False\n",
    "    while number == False:\n",
    "        try:\n",
    "            user_number = int(input(\"Please enter the number of orders you want to make:\"))\n",
    "            if user_number > 0:\n",
    "                number = True # when condition is reversed, while loop is exited\n",
    "            else:\n",
    "                raise ValueError(\"Please enter a positive number\")\n",
    "        except ValueError as ex:\n",
    "            print(ex)\n",
    "    for x in range(user_number): # asking for product twice (user input) by using range from defined user_number\n",
    "        product = False\n",
    "        while product == False:\n",
    "            try:        \n",
    "                prod_name = input(\"Enter the product name\")\n",
    "                if prod_name in inventory.keys() and inventory[prod_name] > 0:\n",
    "                    customer_orders.add(prod_name)\n",
    "                    product = True\n",
    "                elif prod_name not in inventory.keys():\n",
    "                    raise ValueError(\"Please choose a product from the inventory\")\n",
    "                else:\n",
    "                    raise ValueError(\"Please choose an item that is in stock\")\n",
    "            except ValueError as x:\n",
    "                print(x)\n",
    "    return customer_orders "
   ]
  },
  {
   "cell_type": "code",
   "execution_count": 43,
   "id": "f341b814-6c54-45d8-b0c0-695cb1feeda7",
   "metadata": {},
   "outputs": [
    {
     "name": "stdin",
     "output_type": "stream",
     "text": [
      "Please enter the number of orders you want to make: 2\n",
      "Enter the product name hat\n",
      "Enter the product name mug\n"
     ]
    }
   ],
   "source": [
    "user_orders = new_get_customer_orders(inventory) # user orders hier definiert zum Speichern der Bestelldaten zur Verwendung in function call der nächsten"
   ]
  },
  {
   "cell_type": "markdown",
   "id": "f09ba950-fb4d-4af9-b8e5-42c376f5bfc0",
   "metadata": {},
   "source": [
    "\n",
    "Modify the calculate_total_price function to include error handling.\n",
    "- If the user enters an invalid price (e.g., a negative value or a non-numeric value), display an error message and ask them to re-enter the price for that product.\n",
    "- Use a try-except block to handle the error and continue prompting the user until a valid price is entered.\n"
   ]
  },
  {
   "cell_type": "code",
   "execution_count": 47,
   "id": "6e64229e-bf43-4a4b-8732-ce14d1e756a4",
   "metadata": {},
   "outputs": [],
   "source": [
    "def calculate_total_price(customer_orders):\n",
    "    total_price = 0 \n",
    "    for product in customer_orders:\n",
    "        valid_price = False\n",
    "        while valid_price == False:\n",
    "            try:\n",
    "                user_price = float(input(f\"Enter the price of {product}: \")) # float function raised ihn bereits, wir müssen ihn auffangen im nächsten Schritt \n",
    "                if (user_price > 0):\n",
    "                    valid_price = True\n",
    "                    total_price += user_price\n",
    "                else:\n",
    "                    print(\"Price has to be positive.\")\n",
    "            except ValueError as x: \n",
    "                print(\"Price has to be a number.\") \n",
    "    return total_price\n",
    "\n",
    "# raise und except heißen bei Java.Script thrown (an error) and catch "
   ]
  },
  {
   "cell_type": "code",
   "execution_count": 49,
   "id": "6bdf0cae-a1c6-4f31-91d6-d6ea5f637840",
   "metadata": {},
   "outputs": [
    {
     "name": "stdin",
     "output_type": "stream",
     "text": [
      "Enter the price of mug:  0\n"
     ]
    },
    {
     "name": "stdout",
     "output_type": "stream",
     "text": [
      "Price has to be positive.\n"
     ]
    },
    {
     "name": "stdin",
     "output_type": "stream",
     "text": [
      "Enter the price of mug:  str\n"
     ]
    },
    {
     "name": "stdout",
     "output_type": "stream",
     "text": [
      "Price has to be a number.\n"
     ]
    },
    {
     "name": "stdin",
     "output_type": "stream",
     "text": [
      "Enter the price of mug:  5\n",
      "Enter the price of hat:  5\n"
     ]
    },
    {
     "data": {
      "text/plain": [
       "10.0"
      ]
     },
     "execution_count": 49,
     "metadata": {},
     "output_type": "execute_result"
    }
   ],
   "source": [
    "calculate_total_price(user_orders)"
   ]
  },
  {
   "cell_type": "code",
   "execution_count": null,
   "id": "894d24d8-6aec-4be7-b445-37533f9618a8",
   "metadata": {},
   "outputs": [],
   "source": []
  }
 ],
 "metadata": {
  "kernelspec": {
   "display_name": "Python [conda env:base] *",
   "language": "python",
   "name": "conda-base-py"
  },
  "language_info": {
   "codemirror_mode": {
    "name": "ipython",
    "version": 3
   },
   "file_extension": ".py",
   "mimetype": "text/x-python",
   "name": "python",
   "nbconvert_exporter": "python",
   "pygments_lexer": "ipython3",
   "version": "3.12.7"
  }
 },
 "nbformat": 4,
 "nbformat_minor": 5
}
